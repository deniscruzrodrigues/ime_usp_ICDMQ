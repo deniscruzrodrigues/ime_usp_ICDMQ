{
 "cells": [
  {
   "cell_type": "code",
   "execution_count": null,
   "id": "1d7856cf-1760-413d-a492-f20bcb7315ed",
   "metadata": {},
   "outputs": [],
   "source": [
    "import pandas as pd\n",
    "import matplotlib.pyplot as plt\n",
    "import seaborn as sns\n",
    "from sklearn.model_selection import train_test_split\n",
    "from sklearn.preprocessing import StandardScaler\n",
    "from sklearn.linear_model import LogisticRegression\n",
    "from sklearn.metrics import confusion_matrix, classification_report"
   ]
  },
  {
   "cell_type": "code",
   "execution_count": null,
   "id": "fd1fc6bc-c249-4802-a201-66e434a02013",
   "metadata": {},
   "outputs": [],
   "source": [
    "#Carrega os dados dos clientes que receberam empréstimos\n",
    "retail_data = pd.read_csv('Retail_Data.csv')"
   ]
  },
  {
   "cell_type": "code",
   "execution_count": null,
   "id": "70ea800e-dc7d-40ac-bc29-494ca6de48d6",
   "metadata": {},
   "outputs": [],
   "source": [
    "#Carrega os dados dos potenciais clientes\n",
    "potential_customers = pd.read_csv('Potential_Customers.csv')"
   ]
  },
  {
   "cell_type": "code",
   "execution_count": null,
   "id": "46527d9c-2677-427d-aee7-88f9b39fdedb",
   "metadata": {},
   "outputs": [],
   "source": [
    "#Seleciona as features e o target\n",
    "features = ['anos_com_banco', 'estado_marital', 'nivel_educacao', 'status_emprego', 'renda_mensal', 'balanco_total']\n",
    "X = retail_data[features]\n",
    "y = retail_data['recebeu_emprestimo']"
   ]
  },
  {
   "cell_type": "code",
   "execution_count": null,
   "id": "379c1534-5643-418c-aa1f-3ecb9b274875",
   "metadata": {},
   "outputs": [],
   "source": [
    "#Divide os dados em treino e teste\n",
    "X_train, X_test, y_train, y_test = train_test_split(X, y, test_size=0.3, random_state=42)"
   ]
  },
  {
   "cell_type": "code",
   "execution_count": null,
   "id": "c38dbfbc-abf0-41fa-b25c-c8f2b159b7d1",
   "metadata": {},
   "outputs": [],
   "source": [
    "#Padroniza os dados\n",
    "scaler = StandardScaler()\n",
    "X_train = scaler.fit_transform(X_train)\n",
    "X_test = scaler.transform(X_test)"
   ]
  },
  {
   "cell_type": "code",
   "execution_count": null,
   "id": "a0ace28b-1b35-47a3-8564-058bff7b0f2e",
   "metadata": {},
   "outputs": [],
   "source": [
    "#Treina o modelo de Regressão Logística\n",
    "model = LogisticRegression()\n",
    "model.fit(X_train, y_train)"
   ]
  },
  {
   "cell_type": "code",
   "execution_count": null,
   "id": "0cd32485-c3c1-4eae-b9a0-0ac7c7244cf0",
   "metadata": {},
   "outputs": [],
   "source": [
    "#Avalia o modelo\n",
    "y_pred = model.predict(X_test)\n",
    "confusion_matrix = confusion_matrix(y_test, y_pred)\n",
    "print('Confusion Matrix:')\n",
    "print(classification_report(y_test, y_pred))"
   ]
  },
  {
   "cell_type": "code",
   "execution_count": null,
   "id": "cdd0f045-f0bd-4a80-b752-38b7cdd80d46",
   "metadata": {},
   "outputs": [],
   "source": [
    "#Visualiza a matriz de confusão\n",
    "plt.figure(figsize=(8,6))\n",
    "sns.heatmap(confusion_matrix, annot=True, fmt='g', cmap='Blues', xticklabels=['Negativo', 'Possitivo'], yticklabels=['Negativo', 'Postivo'])\n",
    "plt.xlabel('Predição')\n",
    "plt.ylabel('Verdadeiro')\n",
    "plt.title('Matriz de Confusão')\n",
    "plt.show()"
   ]
  },
  {
   "cell_type": "code",
   "execution_count": null,
   "id": "07ff17d9-de7c-4d62-9669-11bfc736b910",
   "metadata": {},
   "outputs": [],
   "source": [
    "#Faz previsões para os potenciais clientes\n",
    "potential_customers_scaled = scaler.transform(potential_customers[features])\n",
    "predictions = model.predict(potential_customers_scaled)"
   ]
  },
  {
   "cell_type": "code",
   "execution_count": null,
   "id": "f149c22a-0a80-43f7-baf7-f25c2911a3db",
   "metadata": {},
   "outputs": [],
   "source": [
    "#Adiciona as previsões ao DF de Potenciais clientes\n",
    "potential_customers['previsao_emprestimo'] = predictions"
   ]
  },
  {
   "cell_type": "code",
   "execution_count": null,
   "id": "77c8c981-e455-4a1a-89c0-d044313df35f",
   "metadata": {},
   "outputs": [],
   "source": [
    "#Exibe os potenciais clientes que tem maior probabilidade de receber empréstimos\n",
    "clientes_abordar = potential_customers[potential_customers['previsao_emprestimo'] == 1]\n",
    "print(clientes_abordar)"
   ]
  },
  {
   "cell_type": "code",
   "execution_count": null,
   "id": "1e69f25d-5823-42e4-a268-6474b58ff5d2",
   "metadata": {},
   "outputs": [],
   "source": [
    "#Selecionei as características relevantes e dividi os dados em conjuntos de treino e teste\n",
    "#Padronização: Dados padronizados para melhorar o desempenho do modelo\n",
    "#Treinamento: Usei a regressão logística para treinar o modelo\n",
    "#Avaliação: Avaliei o modelo usando uma matriz de confusão e um relatório de classificação\n",
    "#Previsão: Fiz previsões para os potenciais clientes e adicionei as previsões ao DataFrame"
   ]
  }
 ],
 "metadata": {
  "kernelspec": {
   "display_name": "Python 3 (ipykernel)",
   "language": "python",
   "name": "python3"
  },
  "language_info": {
   "codemirror_mode": {
    "name": "ipython",
    "version": 3
   },
   "file_extension": ".py",
   "mimetype": "text/x-python",
   "name": "python",
   "nbconvert_exporter": "python",
   "pygments_lexer": "ipython3",
   "version": "3.11.9"
  }
 },
 "nbformat": 4,
 "nbformat_minor": 5
}
