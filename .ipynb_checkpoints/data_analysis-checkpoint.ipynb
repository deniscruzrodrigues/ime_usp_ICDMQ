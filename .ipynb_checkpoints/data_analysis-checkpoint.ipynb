{
 "cells": [
  {
   "cell_type": "code",
   "execution_count": 9,
   "id": "074e465a-9db5-4c70-a7f3-07bcd9be2d74",
   "metadata": {},
   "outputs": [],
   "source": [
    "import pandas as pd\n",
    "import matplotlib.pyplot as plt\n",
    "import seaborn as sns"
   ]
  },
  {
   "cell_type": "code",
   "execution_count": 10,
   "id": "faaa8d24-02a8-4547-a129-a1e87bc96727",
   "metadata": {},
   "outputs": [],
   "source": [
    "#Carrega os dados dos clientes que receberam empréstimos\n",
    "retail_data = pd.read_csv('Retail_Data.csv')"
   ]
  },
  {
   "cell_type": "code",
   "execution_count": 13,
   "id": "8f0f451d-89af-4085-9e9b-d49a6de9f6e8",
   "metadata": {},
   "outputs": [],
   "source": [
    "#Carrega os dados dos potenciais clientes\n",
    "potential_customers = pd.read_csv('Potential_Customers.csv', on_bad_lines='skip', sep=',')"
   ]
  },
  {
   "cell_type": "code",
   "execution_count": null,
   "id": "988272e0-142c-4034-a04e-cbbb9769157d",
   "metadata": {},
   "outputs": [],
   "source": [
    "# Verifique os nomes das colunas\n",
    "print(potential_customers.columns)"
   ]
  },
  {
   "cell_type": "code",
   "execution_count": 14,
   "id": "1f8c1fcd-d9f1-4a6e-b4e7-28571a7eede0",
   "metadata": {},
   "outputs": [
    {
     "name": "stdout",
     "output_type": "stream",
     "text": [
      "                                                                                         Cocunut;\"Mortgage_YN\";\"AGE_AT_ORIGINATION\";\"AGE\";\"YEARS_WITH_BANK\";\"MARTIAL_STATUS\";\"EDUCATION\";\"EMPLOYMENT\";\"GENDER\";\"CUST_INCOME\";\"CURRENT_ADDRESS_DATE\";\"CURRENT_JOB_DATE\";\"CURRENT_WITH_BANK_DATE\";\"CURRENT_BALANCE_EUR\"\n",
      "1;\"Y\";50;52;13;\"M\";\"HGH\";\"PVE\";\"M\";909   5013077;1979-04-18;2010-01-01;2004-03-16;7648                                            350692.0                                                                                                                                                                           \n",
      "9;\"Y\";48;49;11;\"M\";\"HGH\";\"SFE\";\"M\";288   4615385;1999-12-16;2004-01-20;2005-11-07;30189                                            90492.0                                                                                                                                                                           \n",
      "11;\"Y\";53;55;14;\"M\";\"BCR\";\"STE\";\"M\";1280 528692;2005-06-28;1990-09-01;2003-06-25;50553                                             17454.0                                                                                                                                                                           \n",
      "12;\"Y\";64;66;10;\"M\";\"BCR\";\"OTH\";\"F\";620  9597692;2000-12-22;9999-10-01;2006-12-21;15907                                            28338.0                                                                                                                                                                           \n",
      "18;\"Y\";46;47;9;\"S\";\"MAS\";\"PVE\";\"F\";2239  853846;2009-08-01;2013-12-24;2007-08-07;27916                                             19262.0                                                                                                                                                                           \n",
      "                                                   Cocunut;\"AGE\";\"YEARS_WITH_BANK\";\"MARTIAL_STATUS\";\"EDUCATION\";\"EMPLOYMENT\";\"GENDER\";\"CUST_INCOME\";\"CURRENT_ADDRESS_DATE\";\"CURRENT_JOB_DATE\";\"CURRENT_WITH_BANK_DATE\";\"CURRENT_BALANCE_EUR\"\n",
      "80001;32;3;\"M\";\"HGH\";\"PVE\";\"M\";423                       0769231;1985-01-21;2005-01-01;2014-07-02;143                                                                                                                                       \n",
      "80037;47;11;\"M\";\"HGH\";\"STE\";\"M\";383                     1384615;1970-03-18;1999-09-01;2005-09-15;9000                                                                                                                                       \n",
      "80052;31;4;\"S\";\"HGH\";\"PVE\";\"M\";227                               5;1988-06-01;2012-02-01;2013-05-14;0                                                                                                                                       \n",
      "80063;32;0;\"S\";\"HGH\";\"PVE\";\"M\";170;2003-03-15;9...                                             461538                                                                                                                                       \n",
      "80145;43;1;\"M\";\"HGH\";\"PVE\";\"F\";287                         8923077;1990-03-01;2013-11-26;2016-02-08;0                                                                                                                                       \n"
     ]
    }
   ],
   "source": [
    "#Visualiza os dados\n",
    "print(retail_data.head())\n",
    "print(potential_customers.head())  "
   ]
  },
  {
   "cell_type": "code",
   "execution_count": 15,
   "id": "779b8521-1a57-491c-9399-76e7f5b0a95a",
   "metadata": {},
   "outputs": [
    {
     "name": "stdout",
     "output_type": "stream",
     "text": [
      "       Cocunut;\"Mortgage_YN\";\"AGE_AT_ORIGINATION\";\"AGE\";\"YEARS_WITH_BANK\";\"MARTIAL_STATUS\";\"EDUCATION\";\"EMPLOYMENT\";\"GENDER\";\"CUST_INCOME\";\"CURRENT_ADDRESS_DATE\";\"CURRENT_JOB_DATE\";\"CURRENT_WITH_BANK_DATE\";\"CURRENT_BALANCE_EUR\"\n",
      "count                                       2.078300e+04                                                                                                                                                                           \n",
      "mean                                        1.456580e+07                                                                                                                                                                           \n",
      "std                                         6.853309e+07                                                                                                                                                                           \n",
      "min                                         1.000000e+00                                                                                                                                                                           \n",
      "25%                                         3.487690e+05                                                                                                                                                                           \n",
      "50%                                         8.950770e+05                                                                                                                                                                           \n",
      "75%                                         6.215384e+06                                                                                                                                                                           \n",
      "max                                         9.933077e+08                                                                                                                                                                           \n",
      "       Cocunut;\"AGE\";\"YEARS_WITH_BANK\";\"MARTIAL_STATUS\";\"EDUCATION\";\"EMPLOYMENT\";\"GENDER\";\"CUST_INCOME\";\"CURRENT_ADDRESS_DATE\";\"CURRENT_JOB_DATE\";\"CURRENT_WITH_BANK_DATE\";\"CURRENT_BALANCE_EUR\"\n",
      "count                                                 151                                                                                                                                       \n",
      "unique                                                 88                                                                                                                                       \n",
      "top                                                692308                                                                                                                                       \n",
      "freq                                                   28                                                                                                                                       \n"
     ]
    }
   ],
   "source": [
    "#Resumo estatístico dos dados\n",
    "print(retail_data.describe())\n",
    "print(potential_customers.describe())"
   ]
  },
  {
   "cell_type": "code",
   "execution_count": 16,
   "id": "2709970a-3875-4fcc-b7a8-db0f99fa1d55",
   "metadata": {},
   "outputs": [
    {
     "name": "stdout",
     "output_type": "stream",
     "text": [
      "Cocunut;\"Mortgage_YN\";\"AGE_AT_ORIGINATION\";\"AGE\";\"YEARS_WITH_BANK\";\"MARTIAL_STATUS\";\"EDUCATION\";\"EMPLOYMENT\";\"GENDER\";\"CUST_INCOME\";\"CURRENT_ADDRESS_DATE\";\"CURRENT_JOB_DATE\";\"CURRENT_WITH_BANK_DATE\";\"CURRENT_BALANCE_EUR\"    3200\n",
      "dtype: int64\n",
      "Cocunut;\"AGE\";\"YEARS_WITH_BANK\";\"MARTIAL_STATUS\";\"EDUCATION\";\"EMPLOYMENT\";\"GENDER\";\"CUST_INCOME\";\"CURRENT_ADDRESS_DATE\";\"CURRENT_JOB_DATE\";\"CURRENT_WITH_BANK_DATE\";\"CURRENT_BALANCE_EUR\"    3\n",
      "dtype: int64\n"
     ]
    }
   ],
   "source": [
    "#Valida dados ausentes\n",
    "print(retail_data.isnull().sum())\n",
    "print(potential_customers.isnull().sum())"
   ]
  },
  {
   "cell_type": "code",
   "execution_count": 17,
   "id": "7cc66f8d-b54a-4aa9-a716-36559835a57a",
   "metadata": {},
   "outputs": [
    {
     "ename": "KeyError",
     "evalue": "'renda_mensal'",
     "output_type": "error",
     "traceback": [
      "\u001b[1;31m---------------------------------------------------------------------------\u001b[0m",
      "\u001b[1;31mKeyError\u001b[0m                                  Traceback (most recent call last)",
      "File \u001b[1;32m~\\AppData\\Local\\Packages\\PythonSoftwareFoundation.Python.3.11_qbz5n2kfra8p0\\LocalCache\\local-packages\\Python311\\site-packages\\pandas\\core\\indexes\\base.py:3805\u001b[0m, in \u001b[0;36mIndex.get_loc\u001b[1;34m(self, key)\u001b[0m\n\u001b[0;32m   3804\u001b[0m \u001b[38;5;28;01mtry\u001b[39;00m:\n\u001b[1;32m-> 3805\u001b[0m     \u001b[38;5;28;01mreturn\u001b[39;00m \u001b[38;5;28;43mself\u001b[39;49m\u001b[38;5;241;43m.\u001b[39;49m\u001b[43m_engine\u001b[49m\u001b[38;5;241;43m.\u001b[39;49m\u001b[43mget_loc\u001b[49m\u001b[43m(\u001b[49m\u001b[43mcasted_key\u001b[49m\u001b[43m)\u001b[49m\n\u001b[0;32m   3806\u001b[0m \u001b[38;5;28;01mexcept\u001b[39;00m \u001b[38;5;167;01mKeyError\u001b[39;00m \u001b[38;5;28;01mas\u001b[39;00m err:\n",
      "File \u001b[1;32mindex.pyx:167\u001b[0m, in \u001b[0;36mpandas._libs.index.IndexEngine.get_loc\u001b[1;34m()\u001b[0m\n",
      "File \u001b[1;32mindex.pyx:196\u001b[0m, in \u001b[0;36mpandas._libs.index.IndexEngine.get_loc\u001b[1;34m()\u001b[0m\n",
      "File \u001b[1;32mpandas\\\\_libs\\\\hashtable_class_helper.pxi:7081\u001b[0m, in \u001b[0;36mpandas._libs.hashtable.PyObjectHashTable.get_item\u001b[1;34m()\u001b[0m\n",
      "File \u001b[1;32mpandas\\\\_libs\\\\hashtable_class_helper.pxi:7089\u001b[0m, in \u001b[0;36mpandas._libs.hashtable.PyObjectHashTable.get_item\u001b[1;34m()\u001b[0m\n",
      "\u001b[1;31mKeyError\u001b[0m: 'renda_mensal'",
      "\nThe above exception was the direct cause of the following exception:\n",
      "\u001b[1;31mKeyError\u001b[0m                                  Traceback (most recent call last)",
      "Cell \u001b[1;32mIn[17], line 3\u001b[0m\n\u001b[0;32m      1\u001b[0m \u001b[38;5;66;03m#Análise de padrões com distribuição de renda mensal\u001b[39;00m\n\u001b[0;32m      2\u001b[0m plt\u001b[38;5;241m.\u001b[39mfigure(figsize\u001b[38;5;241m=\u001b[39m(\u001b[38;5;241m10\u001b[39m,\u001b[38;5;241m6\u001b[39m))\n\u001b[1;32m----> 3\u001b[0m sns\u001b[38;5;241m.\u001b[39mhistplot(\u001b[43mretail_data\u001b[49m\u001b[43m[\u001b[49m\u001b[38;5;124;43m'\u001b[39;49m\u001b[38;5;124;43mrenda_mensal\u001b[39;49m\u001b[38;5;124;43m'\u001b[39;49m\u001b[43m]\u001b[49m, kde\u001b[38;5;241m=\u001b[39m\u001b[38;5;28;01mTrue\u001b[39;00m, color\u001b[38;5;241m=\u001b[39m\u001b[38;5;124m'\u001b[39m\u001b[38;5;124mblue\u001b[39m\u001b[38;5;124m'\u001b[39m, label\u001b[38;5;241m=\u001b[39m\u001b[38;5;124m'\u001b[39m\u001b[38;5;124mClientes Atuais\u001b[39m\u001b[38;5;124m'\u001b[39m)\n\u001b[0;32m      4\u001b[0m sns\u001b[38;5;241m.\u001b[39mhistplot(potential_customers[\u001b[38;5;124m'\u001b[39m\u001b[38;5;124mrenda_mensal\u001b[39m\u001b[38;5;124m'\u001b[39m], kde\u001b[38;5;241m=\u001b[39m\u001b[38;5;28;01mTrue\u001b[39;00m, color\u001b[38;5;241m=\u001b[39m\u001b[38;5;124m'\u001b[39m\u001b[38;5;124morange\u001b[39m\u001b[38;5;124m'\u001b[39m, label\u001b[38;5;241m=\u001b[39m\u001b[38;5;124m'\u001b[39m\u001b[38;5;124mPotenciais Clientes\u001b[39m\u001b[38;5;124m'\u001b[39m)\n\u001b[0;32m      5\u001b[0m plt\u001b[38;5;241m.\u001b[39mtitle(\u001b[38;5;124m'\u001b[39m\u001b[38;5;124mDistribuição de Renda Mensal\u001b[39m\u001b[38;5;124m'\u001b[39m)\n",
      "File \u001b[1;32m~\\AppData\\Local\\Packages\\PythonSoftwareFoundation.Python.3.11_qbz5n2kfra8p0\\LocalCache\\local-packages\\Python311\\site-packages\\pandas\\core\\frame.py:4102\u001b[0m, in \u001b[0;36mDataFrame.__getitem__\u001b[1;34m(self, key)\u001b[0m\n\u001b[0;32m   4100\u001b[0m \u001b[38;5;28;01mif\u001b[39;00m \u001b[38;5;28mself\u001b[39m\u001b[38;5;241m.\u001b[39mcolumns\u001b[38;5;241m.\u001b[39mnlevels \u001b[38;5;241m>\u001b[39m \u001b[38;5;241m1\u001b[39m:\n\u001b[0;32m   4101\u001b[0m     \u001b[38;5;28;01mreturn\u001b[39;00m \u001b[38;5;28mself\u001b[39m\u001b[38;5;241m.\u001b[39m_getitem_multilevel(key)\n\u001b[1;32m-> 4102\u001b[0m indexer \u001b[38;5;241m=\u001b[39m \u001b[38;5;28;43mself\u001b[39;49m\u001b[38;5;241;43m.\u001b[39;49m\u001b[43mcolumns\u001b[49m\u001b[38;5;241;43m.\u001b[39;49m\u001b[43mget_loc\u001b[49m\u001b[43m(\u001b[49m\u001b[43mkey\u001b[49m\u001b[43m)\u001b[49m\n\u001b[0;32m   4103\u001b[0m \u001b[38;5;28;01mif\u001b[39;00m is_integer(indexer):\n\u001b[0;32m   4104\u001b[0m     indexer \u001b[38;5;241m=\u001b[39m [indexer]\n",
      "File \u001b[1;32m~\\AppData\\Local\\Packages\\PythonSoftwareFoundation.Python.3.11_qbz5n2kfra8p0\\LocalCache\\local-packages\\Python311\\site-packages\\pandas\\core\\indexes\\base.py:3812\u001b[0m, in \u001b[0;36mIndex.get_loc\u001b[1;34m(self, key)\u001b[0m\n\u001b[0;32m   3807\u001b[0m     \u001b[38;5;28;01mif\u001b[39;00m \u001b[38;5;28misinstance\u001b[39m(casted_key, \u001b[38;5;28mslice\u001b[39m) \u001b[38;5;129;01mor\u001b[39;00m (\n\u001b[0;32m   3808\u001b[0m         \u001b[38;5;28misinstance\u001b[39m(casted_key, abc\u001b[38;5;241m.\u001b[39mIterable)\n\u001b[0;32m   3809\u001b[0m         \u001b[38;5;129;01mand\u001b[39;00m \u001b[38;5;28many\u001b[39m(\u001b[38;5;28misinstance\u001b[39m(x, \u001b[38;5;28mslice\u001b[39m) \u001b[38;5;28;01mfor\u001b[39;00m x \u001b[38;5;129;01min\u001b[39;00m casted_key)\n\u001b[0;32m   3810\u001b[0m     ):\n\u001b[0;32m   3811\u001b[0m         \u001b[38;5;28;01mraise\u001b[39;00m InvalidIndexError(key)\n\u001b[1;32m-> 3812\u001b[0m     \u001b[38;5;28;01mraise\u001b[39;00m \u001b[38;5;167;01mKeyError\u001b[39;00m(key) \u001b[38;5;28;01mfrom\u001b[39;00m\u001b[38;5;250m \u001b[39m\u001b[38;5;21;01merr\u001b[39;00m\n\u001b[0;32m   3813\u001b[0m \u001b[38;5;28;01mexcept\u001b[39;00m \u001b[38;5;167;01mTypeError\u001b[39;00m:\n\u001b[0;32m   3814\u001b[0m     \u001b[38;5;66;03m# If we have a listlike key, _check_indexing_error will raise\u001b[39;00m\n\u001b[0;32m   3815\u001b[0m     \u001b[38;5;66;03m#  InvalidIndexError. Otherwise we fall through and re-raise\u001b[39;00m\n\u001b[0;32m   3816\u001b[0m     \u001b[38;5;66;03m#  the TypeError.\u001b[39;00m\n\u001b[0;32m   3817\u001b[0m     \u001b[38;5;28mself\u001b[39m\u001b[38;5;241m.\u001b[39m_check_indexing_error(key)\n",
      "\u001b[1;31mKeyError\u001b[0m: 'renda_mensal'"
     ]
    },
    {
     "data": {
      "text/plain": [
       "<Figure size 1000x600 with 0 Axes>"
      ]
     },
     "metadata": {},
     "output_type": "display_data"
    }
   ],
   "source": [
    "#Análise de padrões com distribuição de renda mensal\n",
    "plt.figure(figsize=(10,6))\n",
    "sns.histplot(retail_data['renda_mensal'], kde=True, color='blue', label='Clientes Atuais')\n",
    "sns.histplot(potential_customers['renda_mensal'], kde=True, color='orange', label='Potenciais Clientes')\n",
    "plt.title('Distribuição de Renda Mensal')\n",
    "plt.xlabel('Renda Mensal')\n",
    "plt.ylabel('Frequência')\n",
    "plt.legend()\n",
    "plt.show()"
   ]
  },
  {
   "cell_type": "code",
   "execution_count": null,
   "id": "9b1d88db-f697-4b38-813f-5f280dab3fd5",
   "metadata": {},
   "outputs": [],
   "source": [
    "#Análise de correlação\n",
    "plt.figure(figsize=(10,6))\n",
    "sns.heatmap(retail_data.corr(), annot=True, cmap='coolwarm')\n",
    "plt.title('Matriz de Correlação - Clientes Atuais')\n",
    "plt.show()"
   ]
  },
  {
   "cell_type": "code",
   "execution_count": null,
   "id": "df147f86-33a4-4df0-92d1-8f556443dde1",
   "metadata": {},
   "outputs": [],
   "source": [
    "#identificar padrões interessantes\n",
    "#Com base nos gráficos e análises, é possível identificar padrões como:\n",
    "#Renda mensal: Existe uma faixa de renda que é mais comum entre os clientes que receberam empréstimos?\n",
    "#Tempode relacionamento: Clientes com mais tempo de relacionamento tem maior probabilidade de receber empréstimos?\n",
    "#Segmentação: Existem segmentos de clientes (estado civil ou educação) que são mais propensos a receber empréstimos?"
   ]
  }
 ],
 "metadata": {
  "kernelspec": {
   "display_name": "Python 3 (ipykernel)",
   "language": "python",
   "name": "python3"
  },
  "language_info": {
   "codemirror_mode": {
    "name": "ipython",
    "version": 3
   },
   "file_extension": ".py",
   "mimetype": "text/x-python",
   "name": "python",
   "nbconvert_exporter": "python",
   "pygments_lexer": "ipython3",
   "version": "3.11.9"
  }
 },
 "nbformat": 4,
 "nbformat_minor": 5
}
